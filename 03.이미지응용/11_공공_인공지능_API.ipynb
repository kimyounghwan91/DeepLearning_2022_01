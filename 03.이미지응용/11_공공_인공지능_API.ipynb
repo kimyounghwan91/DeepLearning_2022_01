{
  "cells": [
    {
      "cell_type": "markdown",
      "metadata": {
        "id": "kHLJLHNF_nTk"
      },
      "source": [
        "# 공공 인공지능 Open API 활용\n",
        "- 2022.1.21 Colab에서는 접속불가"
      ]
    },
    {
      "cell_type": "code",
      "execution_count": 7,
      "metadata": {
        "id": "DfHTMWqLAuzE"
      },
      "outputs": [],
      "source": [
        "with open('etriaikey.txt') as f:\n",
        "    ai_key = f.read()"
      ]
    },
    {
      "cell_type": "markdown",
      "metadata": {
        "id": "DUUPBb9uGpEV"
      },
      "source": [
        "### 객체 검출"
      ]
    },
    {
      "cell_type": "markdown",
      "metadata": {
        "id": "zcOEWPDlGru8"
      },
      "source": [
        "- 하나의 이미지 검출"
      ]
    },
    {
      "cell_type": "code",
      "execution_count": 12,
      "metadata": {
        "colab": {
          "base_uri": "https://localhost:8080/",
          "height": 35
        },
        "id": "qn6n-v9OF7Ij",
        "outputId": "baea9750-3346-482a-ad33-cc4008120526"
      },
      "outputs": [
        {
          "data": {
            "text/plain": [
              "'jfif'"
            ]
          },
          "execution_count": 12,
          "metadata": {},
          "output_type": "execute_result"
        }
      ],
      "source": [
        "img_file = '사진/cat1.jfif'\n",
        "img_type = img_file.split('.')[-1]\n",
        "img_type"
      ]
    },
    {
      "cell_type": "code",
      "execution_count": 13,
      "metadata": {
        "id": "WA-SvjeEGw02"
      },
      "outputs": [],
      "source": [
        "# JFIF 타입은 JPG로 변경\n",
        "img_type = 'jpg' if img_type == 'jfif' else img_type"
      ]
    },
    {
      "cell_type": "code",
      "execution_count": 14,
      "metadata": {
        "id": "tcPV90peFQoI"
      },
      "outputs": [],
      "source": [
        "import urllib3\n",
        "import json\n",
        "import base64\n",
        "openApiURL = \"http://aiopen.etri.re.kr:8000/ObjectDetect\""
      ]
    },
    {
      "cell_type": "code",
      "execution_count": 15,
      "metadata": {
        "id": "ttXQvqo8IFhz"
      },
      "outputs": [],
      "source": [
        "with open(img_file, \"rb\") as file:\n",
        "\n",
        "    img_contents = base64.b64encode(file.read()).decode(\"utf8\")\n",
        "    # a -z 26개, A-Z 26개, 0-9 10개 합쳐서 64로 한다. base64\n",
        "\n",
        " "
      ]
    },
    {
      "cell_type": "code",
      "execution_count": 16,
      "metadata": {
        "id": "pp3ebB-rIa4T"
      },
      "outputs": [],
      "source": [
        "request_json = {\n",
        "    \"access_key\": ai_key,\n",
        "    \"argument\": {\n",
        "        \"type\": img_type,\n",
        "        \"file\": img_contents\n",
        "    }\n",
        "}"
      ]
    },
    {
      "cell_type": "code",
      "execution_count": 17,
      "metadata": {
        "colab": {
          "base_uri": "https://localhost:8080/",
          "height": 565
        },
        "id": "q-4UNSCbJAL2",
        "outputId": "a85d1013-f90d-493b-a261-66f468af4770"
      },
      "outputs": [],
      "source": [
        "http = urllib3.PoolManager()\n",
        "response = http.request(\n",
        "    \"POST\",\n",
        "    openApiURL,\n",
        "    headers={\"Content-Type\": \"application/json; charset=UTF-8\"},\n",
        "    body=json.dumps(request_json)\n",
        ")\n",
        " "
      ]
    },
    {
      "cell_type": "code",
      "execution_count": 18,
      "metadata": {
        "colab": {
          "base_uri": "https://localhost:8080/",
          "height": 676
        },
        "id": "0iWeMWiAJJXo",
        "outputId": "70d7c568-666b-4b39-8cd7-946d5375460a"
      },
      "outputs": [],
      "source": [
        "import requests\n",
        "response = requests.post(\n",
        "    openApiURL,\n",
        "    headers={\"Content-Type\": \"application/json; charset=UTF-8\"},\n",
        "    data = json.dumps(request_json),\n",
        ")"
      ]
    },
    {
      "cell_type": "code",
      "execution_count": null,
      "metadata": {
        "id": "TWtuH3bCMfpR"
      },
      "outputs": [],
      "source": []
    }
  ],
  "metadata": {
    "colab": {
      "name": "11.공공_인공지능_API.ipynb",
      "provenance": []
    },
    "kernelspec": {
      "display_name": "Python 3",
      "name": "python3"
    },
    "language_info": {
      "codemirror_mode": {
        "name": "ipython",
        "version": 3
      },
      "file_extension": ".py",
      "mimetype": "text/x-python",
      "name": "python",
      "nbconvert_exporter": "python",
      "pygments_lexer": "ipython3",
      "version": "3.9.7"
    }
  },
  "nbformat": 4,
  "nbformat_minor": 0
}
