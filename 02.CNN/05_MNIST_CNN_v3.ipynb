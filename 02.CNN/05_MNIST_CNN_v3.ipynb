{
  "cells": [
    {
      "cell_type": "markdown",
      "metadata": {
        "id": "aFqRrfHEoPI3"
      },
      "source": [
        "# MNIST 손글씨 - CNN v3\n",
        "- 2 Conv2D layers\n",
        "- 1 MaxPooling2D layer\n",
        "- 1 Dropout(0.25) layer\n",
        "- 1 Fully Connected Network layer\n",
        "- 1 Dropout(0.5) layer\n",
        "- 1 Output layer"
      ]
    },
    {
      "cell_type": "code",
      "execution_count": 1,
      "metadata": {
        "id": "fTxFsl9soOO4"
      },
      "outputs": [],
      "source": [
        "import numpy as np\n",
        "import tensorflow as tf\n",
        "seed = 2022\n",
        "np.random.seed(seed)\n",
        "tf.random.set_seed(seed)"
      ]
    },
    {
      "cell_type": "markdown",
      "metadata": {
        "id": "_9ZcbdcNorgP"
      },
      "source": [
        "* 데이터 전처리"
      ]
    },
    {
      "cell_type": "code",
      "execution_count": 2,
      "metadata": {
        "colab": {
          "base_uri": "https://localhost:8080/"
        },
        "id": "pzMP8qixowx_",
        "outputId": "5f219647-d582-4a3c-df4b-66b302400e5f"
      },
      "outputs": [
        {
          "output_type": "stream",
          "name": "stdout",
          "text": [
            "Downloading data from https://storage.googleapis.com/tensorflow/tf-keras-datasets/mnist.npz\n",
            "11493376/11490434 [==============================] - 0s 0us/step\n",
            "11501568/11490434 [==============================] - 0s 0us/step\n"
          ]
        }
      ],
      "source": [
        "from tensorflow.keras.datasets import mnist\n",
        "(X_train, y_train), (X_test, y_test) = mnist.load_data()"
      ]
    },
    {
      "cell_type": "code",
      "execution_count": 3,
      "metadata": {
        "id": "aUqTglESo7K1"
      },
      "outputs": [],
      "source": [
        "# X data: 0 ~ 1 사이의 값, 3차원 --> 4차원\n",
        "X_train = X_train.reshape(-1, 28, 28, 1) / 255.\n",
        "X_test = X_test.reshape(-1,28,28,1) / 255."
      ]
    },
    {
      "cell_type": "code",
      "execution_count": 4,
      "metadata": {
        "id": "ER-a-ILApWAE"
      },
      "outputs": [],
      "source": [
        "# One-hot encoding\n",
        "from tensorflow.keras.utils import to_categorical\n",
        "Y_train = to_categorical(y_train)\n",
        "Y_test = to_categorical(y_test)"
      ]
    },
    {
      "cell_type": "markdown",
      "metadata": {
        "id": "YCoxpc5rqAXT"
      },
      "source": [
        "- 모델 정의, 설정, 학습, 평가"
      ]
    },
    {
      "cell_type": "code",
      "execution_count": 5,
      "metadata": {
        "id": "pZ0raPBWqHBY"
      },
      "outputs": [],
      "source": [
        "from tensorflow.keras.models import Sequential, load_model\n",
        "from tensorflow.keras.layers import Dense, Conv2D, Flatten, MaxPooling2D\n",
        "from tensorflow.keras.layers import Dropout\n",
        "from tensorflow.keras.callbacks import ModelCheckpoint, EarlyStopping"
      ]
    },
    {
      "cell_type": "code",
      "execution_count": 6,
      "metadata": {
        "colab": {
          "base_uri": "https://localhost:8080/"
        },
        "id": "cVt1lzAHqgNA",
        "outputId": "3c4e7d5c-c881-4ce3-c0bd-88eec9219d52"
      },
      "outputs": [
        {
          "output_type": "stream",
          "name": "stdout",
          "text": [
            "Model: \"sequential\"\n",
            "_________________________________________________________________\n",
            " Layer (type)                Output Shape              Param #   \n",
            "=================================================================\n",
            " conv2d (Conv2D)             (None, 26, 26, 32)        320       \n",
            "                                                                 \n",
            " conv2d_1 (Conv2D)           (None, 24, 24, 64)        18496     \n",
            "                                                                 \n",
            " max_pooling2d (MaxPooling2D  (None, 12, 12, 64)       0         \n",
            " )                                                               \n",
            "                                                                 \n",
            " dropout (Dropout)           (None, 12, 12, 64)        0         \n",
            "                                                                 \n",
            " flatten (Flatten)           (None, 9216)              0         \n",
            "                                                                 \n",
            " dense (Dense)               (None, 512)               4719104   \n",
            "                                                                 \n",
            " dropout_1 (Dropout)         (None, 512)               0         \n",
            "                                                                 \n",
            " dense_1 (Dense)             (None, 10)                5130      \n",
            "                                                                 \n",
            "=================================================================\n",
            "Total params: 4,743,050\n",
            "Trainable params: 4,743,050\n",
            "Non-trainable params: 0\n",
            "_________________________________________________________________\n"
          ]
        }
      ],
      "source": [
        "model = Sequential([ \n",
        "    Conv2D(32, kernel_size=(3,3), input_shape=(28,28,1),activation='relu'),\n",
        "    Conv2D(64, (3,3), activation='relu'),\n",
        "    MaxPooling2D(),                         # MaxPooling2D(pool_size(2,2))\n",
        "    Dropout(0.25),\n",
        "    Flatten(),\n",
        "    Dense(512, activation='relu'),\n",
        "    Dropout(0.5),\n",
        "    Dense(10, activation='softmax')\n",
        "])\n",
        "model.summary()"
      ]
    },
    {
      "cell_type": "code",
      "execution_count": 7,
      "metadata": {
        "id": "Esf7GJQOrfYC"
      },
      "outputs": [],
      "source": [
        "model.compile(optimizer='adam', loss='categorical_crossentropy', metrics=['accuracy'])"
      ]
    },
    {
      "cell_type": "code",
      "execution_count": 8,
      "metadata": {
        "id": "JZ5J_pEbsspb"
      },
      "outputs": [],
      "source": [
        "model_path = 'best-mnist-cnn-v3.h5'\n",
        "checkpoint = ModelCheckpoint(model_path, save_best_only=True, verbose=1)\n",
        "early_stop = EarlyStopping(patience=10)"
      ]
    },
    {
      "cell_type": "code",
      "execution_count": 9,
      "metadata": {
        "colab": {
          "base_uri": "https://localhost:8080/"
        },
        "id": "-h4oH83AtDFI",
        "outputId": "bff49b10-e055-4fbb-be9e-98463bda04f7"
      },
      "outputs": [
        {
          "output_type": "stream",
          "name": "stdout",
          "text": [
            "\n",
            "Epoch 00001: val_loss improved from inf to 0.05634, saving model to best-mnist-cnn-v3.h5\n",
            "\n",
            "Epoch 00002: val_loss improved from 0.05634 to 0.05036, saving model to best-mnist-cnn-v3.h5\n",
            "\n",
            "Epoch 00003: val_loss improved from 0.05036 to 0.04043, saving model to best-mnist-cnn-v3.h5\n",
            "\n",
            "Epoch 00004: val_loss improved from 0.04043 to 0.03898, saving model to best-mnist-cnn-v3.h5\n",
            "\n",
            "Epoch 00005: val_loss improved from 0.03898 to 0.03562, saving model to best-mnist-cnn-v3.h5\n",
            "\n",
            "Epoch 00006: val_loss improved from 0.03562 to 0.03289, saving model to best-mnist-cnn-v3.h5\n",
            "\n",
            "Epoch 00007: val_loss did not improve from 0.03289\n",
            "\n",
            "Epoch 00008: val_loss improved from 0.03289 to 0.03281, saving model to best-mnist-cnn-v3.h5\n",
            "\n",
            "Epoch 00009: val_loss did not improve from 0.03281\n",
            "\n",
            "Epoch 00010: val_loss did not improve from 0.03281\n",
            "\n",
            "Epoch 00011: val_loss did not improve from 0.03281\n",
            "\n",
            "Epoch 00012: val_loss did not improve from 0.03281\n",
            "\n",
            "Epoch 00013: val_loss did not improve from 0.03281\n",
            "\n",
            "Epoch 00014: val_loss did not improve from 0.03281\n",
            "\n",
            "Epoch 00015: val_loss did not improve from 0.03281\n",
            "\n",
            "Epoch 00016: val_loss did not improve from 0.03281\n",
            "\n",
            "Epoch 00017: val_loss did not improve from 0.03281\n",
            "\n",
            "Epoch 00018: val_loss did not improve from 0.03281\n"
          ]
        }
      ],
      "source": [
        "hist = model.fit(\n",
        "    X_train, Y_train, validation_split=0.2, epochs=100, batch_size=200, \n",
        "    callbacks=[checkpoint, early_stop], verbose=0\n",
        ")"
      ]
    },
    {
      "cell_type": "code",
      "execution_count": 10,
      "metadata": {
        "colab": {
          "base_uri": "https://localhost:8080/"
        },
        "id": "clHeDiCZtf2L",
        "outputId": "789d0eb6-1f9b-4b4d-e1f4-e06ca17962f3"
      },
      "outputs": [
        {
          "output_type": "stream",
          "name": "stdout",
          "text": [
            "313/313 [==============================] - 2s 5ms/step - loss: 0.0270 - accuracy: 0.9919\n"
          ]
        },
        {
          "output_type": "execute_result",
          "data": {
            "text/plain": [
              "[0.027015740051865578, 0.9919000267982483]"
            ]
          },
          "metadata": {},
          "execution_count": 10
        }
      ],
      "source": [
        "best_model = load_model(model_path)\n",
        "best_model.evaluate(X_test, Y_test)"
      ]
    },
    {
      "cell_type": "markdown",
      "source": [
        "- 훈련과정 시각화"
      ],
      "metadata": {
        "id": "Hw7LI094vaIH"
      }
    },
    {
      "cell_type": "code",
      "source": [
        "y_acc = hist.history['accuracy']\n",
        "y_vloss = hist.history['val_loss']\n",
        "xs = np.arange(1, len(y_acc)+1)"
      ],
      "metadata": {
        "id": "3LyqhDtn8VSI"
      },
      "execution_count": 12,
      "outputs": []
    },
    {
      "cell_type": "code",
      "source": [
        "import matplotlib.pyplot as plt\n",
        "\n",
        "plt.figure(figsize=(12,8))\n",
        "plt.plot(xs, y_acc, 'o-', ms=3, label='Train accuracy')\n",
        "plt.plot(xs, y_vloss, 'o-', ms=3, label = \"Validation loss\")\n",
        "plt.legend()\n",
        "plt.xlabel(\"Epoch\")\n",
        "plt.grid()\n",
        "plt.show()"
      ],
      "metadata": {
        "colab": {
          "base_uri": "https://localhost:8080/",
          "height": 497
        },
        "id": "F2UnrJP08tgr",
        "outputId": "8d438f73-1437-4158-f619-2ebf6f9d48b5"
      },
      "execution_count": 16,
      "outputs": [
        {
          "output_type": "display_data",
          "data": {
            "image/png": "[encoded data removed]",
            "text/plain": [
              "<Figure size 864x576 with 1 Axes>"
            ]
          },
          "metadata": {
            "needs_background": "light"
          }
        }
      ]
    },
    {
      "cell_type": "code",
      "source": [
        ""
      ],
      "metadata": {
        "id": "1jO0wcWo89zG"
      },
      "execution_count": null,
      "outputs": []
    }
  ],
  "metadata": {
    "accelerator": "GPU",
    "colab": {
      "collapsed_sections": [],
      "name": "05_MNIST_CNN_v3.ipynb",
      "provenance": []
    },
    "kernelspec": {
      "display_name": "Python 3",
      "name": "python3"
    },
    "language_info": {
      "name": "python"
    }
  },
  "nbformat": 4,
  "nbformat_minor": 0
}